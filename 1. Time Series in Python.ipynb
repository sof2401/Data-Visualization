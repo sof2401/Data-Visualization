{
 "cells": [
  {
   "cell_type": "code",
   "execution_count": 1,
   "id": "a51e5b3c-31d0-4e3d-b292-22a9cf2be785",
   "metadata": {},
   "outputs": [],
   "source": [
    "import datetime as dt"
   ]
  },
  {
   "cell_type": "code",
   "execution_count": 2,
   "id": "9a461b78-c718-415c-8f2c-669e9f0d68c7",
   "metadata": {},
   "outputs": [
    {
     "data": {
      "text/plain": [
       "datetime.datetime(2024, 1, 29, 8, 41, 8, 225122)"
      ]
     },
     "execution_count": 2,
     "metadata": {},
     "output_type": "execute_result"
    }
   ],
   "source": [
    "now= dt.datetime.now()\n",
    "now"
   ]
  },
  {
   "cell_type": "code",
   "execution_count": 3,
   "id": "a0904c24-b19f-485c-982b-3ff75efc3c2b",
   "metadata": {},
   "outputs": [
    {
     "data": {
      "text/plain": [
       "2024"
      ]
     },
     "execution_count": 3,
     "metadata": {},
     "output_type": "execute_result"
    }
   ],
   "source": [
    "now.year"
   ]
  },
  {
   "cell_type": "code",
   "execution_count": 4,
   "id": "c851a602-53c4-412e-b1a8-9bce1c5e7390",
   "metadata": {},
   "outputs": [
    {
     "data": {
      "text/plain": [
       "datetime.datetime(2024, 1, 29, 8, 41, 8, 225122)"
      ]
     },
     "metadata": {},
     "output_type": "display_data"
    }
   ],
   "source": [
    "display(now)"
   ]
  },
  {
   "cell_type": "code",
   "execution_count": 5,
   "id": "b5a8cb87-9bb3-457b-aa4a-59ae5a7ad58c",
   "metadata": {},
   "outputs": [
    {
     "data": {
      "text/plain": [
       "datetime.datetime(2024, 1, 29, 8, 41, 8, 225122)"
      ]
     },
     "execution_count": 5,
     "metadata": {},
     "output_type": "execute_result"
    }
   ],
   "source": [
    "now"
   ]
  },
  {
   "cell_type": "code",
   "execution_count": 7,
   "id": "f933e217-b307-47cb-bc4f-64b288364ea5",
   "metadata": {},
   "outputs": [
    {
     "name": "stdout",
     "output_type": "stream",
     "text": [
      "2024-01-29 08:41:08.225122\n"
     ]
    }
   ],
   "source": [
    "print(now)"
   ]
  },
  {
   "cell_type": "code",
   "execution_count": 8,
   "id": "e97677df-9d02-4a72-bfdf-b3a679580958",
   "metadata": {},
   "outputs": [
    {
     "data": {
      "text/plain": [
       "'29'"
      ]
     },
     "execution_count": 8,
     "metadata": {},
     "output_type": "execute_result"
    }
   ],
   "source": [
    "# just output the day with a leading 0 if needed\n",
    "format_a = \"%d\"\n",
    "now.strftime(format_a)"
   ]
  },
  {
   "cell_type": "code",
   "execution_count": 9,
   "id": "93110acb-927d-4af4-9f98-786aa7a1c212",
   "metadata": {},
   "outputs": [
    {
     "data": {
      "text/plain": [
       "'January 29'"
      ]
     },
     "execution_count": 9,
     "metadata": {},
     "output_type": "execute_result"
    }
   ],
   "source": [
    "# Add full month name to day of month\n",
    "format_b = \"%B %d\"\n",
    "now.strftime(format_b)\n"
   ]
  },
  {
   "cell_type": "code",
   "execution_count": 10,
   "id": "0c3999dc-858b-48d7-a496-39fc5ee1284f",
   "metadata": {},
   "outputs": [
    {
     "data": {
      "text/plain": [
       "'Mon, January 29'"
      ]
     },
     "execution_count": 10,
     "metadata": {},
     "output_type": "execute_result"
    }
   ],
   "source": [
    "# Add day of the week to month and day\n",
    "format_c = \"%a, %B %d\"\n",
    "now.strftime(format_c)"
   ]
  },
  {
   "cell_type": "code",
   "execution_count": 11,
   "id": "e5a05ca4-07c1-43c8-b61a-73201915ce00",
   "metadata": {},
   "outputs": [
    {
     "name": "stdout",
     "output_type": "stream",
     "text": [
      "2024-01-29 08:41:08.225122\n"
     ]
    },
    {
     "data": {
      "text/plain": [
       "'2024-01-29 08:41:08.225122'"
      ]
     },
     "execution_count": 11,
     "metadata": {},
     "output_type": "execute_result"
    }
   ],
   "source": [
    "## the default datetime format\n",
    "default =\"%Y-%m-%d %H:%M:%S.%f\"\n",
    "print(now)\n",
    "now.strftime(default)"
   ]
  },
  {
   "cell_type": "code",
   "execution_count": 12,
   "id": "94c15bb6-d20a-4cb9-ae10-4c049c0495b1",
   "metadata": {},
   "outputs": [
    {
     "data": {
      "text/plain": [
       "'01/29/2024 08:41:08 AM'"
      ]
     },
     "execution_count": 12,
     "metadata": {},
     "output_type": "execute_result"
    }
   ],
   "source": [
    "# Example US Formatted 12-hour date/time with AM/PM\n",
    "fmt = \"%m/%d/%Y %I:%M:%S %p\"\n",
    "now.strftime(fmt)"
   ]
  },
  {
   "cell_type": "code",
   "execution_count": 13,
   "id": "a67f2d57-b89a-44e4-a4a3-521607281210",
   "metadata": {},
   "outputs": [
    {
     "data": {
      "text/plain": [
       "'08:41:08'"
      ]
     },
     "execution_count": 13,
     "metadata": {},
     "output_type": "execute_result"
    }
   ],
   "source": [
    "## just the time (24 hour time)\n",
    "now.strftime(\"%T\")"
   ]
  }
 ],
 "metadata": {
  "kernelspec": {
   "display_name": "Python (dojo-env)",
   "language": "python",
   "name": "dojo-env"
  },
  "language_info": {
   "codemirror_mode": {
    "name": "ipython",
    "version": 3
   },
   "file_extension": ".py",
   "mimetype": "text/x-python",
   "name": "python",
   "nbconvert_exporter": "python",
   "pygments_lexer": "ipython3",
   "version": "3.10.10"
  }
 },
 "nbformat": 4,
 "nbformat_minor": 5
}
