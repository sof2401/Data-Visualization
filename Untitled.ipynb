{
 "cells": [
  {
   "cell_type": "code",
   "execution_count": 1,
   "id": "9e2b8314-a4c4-44af-aa0b-04630052e83f",
   "metadata": {},
   "outputs": [
    {
     "name": "stdout",
     "output_type": "stream",
     "text": [
      "Requirement already satisfied: holidays in /Users/sofiawang/anaconda3/envs/dojo-env/lib/python3.10/site-packages (0.25)\n",
      "Requirement already satisfied: korean-lunar-calendar in /Users/sofiawang/anaconda3/envs/dojo-env/lib/python3.10/site-packages (from holidays) (0.3.1)\n",
      "Requirement already satisfied: python-dateutil in /Users/sofiawang/anaconda3/envs/dojo-env/lib/python3.10/site-packages (from holidays) (2.8.2)\n",
      "Requirement already satisfied: six>=1.5 in /Users/sofiawang/anaconda3/envs/dojo-env/lib/python3.10/site-packages (from python-dateutil->holidays) (1.16.0)\n"
     ]
    }
   ],
   "source": [
    "!pip install holidays"
   ]
  },
  {
   "cell_type": "code",
   "execution_count": 4,
   "id": "e0fc62a9-fed0-42e9-b3f7-5d70795e02cb",
   "metadata": {},
   "outputs": [],
   "source": [
    "import pandas as pd\n",
    "import holidays\n",
    "import datetime as dt\n",
    "from holidays import country_holidays"
   ]
  },
  {
   "cell_type": "code",
   "execution_count": 5,
   "id": "8a4b454e-a62d-4ca6-a27b-cff5df58a3c6",
   "metadata": {},
   "outputs": [
    {
     "ename": "NameError",
     "evalue": "name 'df' is not defined",
     "output_type": "error",
     "traceback": [
      "\u001b[0;31m---------------------------------------------------------------------------\u001b[0m",
      "\u001b[0;31mNameError\u001b[0m                                 Traceback (most recent call last)",
      "Cell \u001b[0;32mIn[5], line 2\u001b[0m\n\u001b[1;32m      1\u001b[0m \u001b[38;5;66;03m## making a date range that covers full dataset\u001b[39;00m\n\u001b[0;32m----> 2\u001b[0m all_days \u001b[38;5;241m=\u001b[39m pd\u001b[38;5;241m.\u001b[39mdate_range(\u001b[43mdf\u001b[49m[\u001b[38;5;124m\"\u001b[39m\u001b[38;5;124mDate\u001b[39m\u001b[38;5;124m\"\u001b[39m]\u001b[38;5;241m.\u001b[39mmin(), df[\u001b[38;5;124m\"\u001b[39m\u001b[38;5;124mDate\u001b[39m\u001b[38;5;124m\"\u001b[39m]\u001b[38;5;241m.\u001b[39mmax())\n\u001b[1;32m      3\u001b[0m all_days\n",
      "\u001b[0;31mNameError\u001b[0m: name 'df' is not defined"
     ]
    }
   ],
   "source": [
    "## making a date range that covers full dataset\n",
    "all_days = pd.date_range(df[\"Date\"].min(), df[\"Date\"].max())\n",
    "all_days"
   ]
  },
  {
   "cell_type": "code",
   "execution_count": null,
   "id": "3f52b304-b13a-451e-a80b-1f113a452e58",
   "metadata": {},
   "outputs": [],
   "source": [
    "# GETTING GENERAL US HOLIDAYS\n",
    "## Create an instance of the US country holidays.\n",
    "us_holidays = country_holidays('US')\n",
    "us_holidays"
   ]
  },
  {
   "cell_type": "code",
   "execution_count": null,
   "id": "4242cd32-75ba-4175-bae5-f29a34da7d10",
   "metadata": {},
   "outputs": [],
   "source": [
    "## Testing first date\n",
    "print(all_days[0])\n",
    "us_holidays.get(all_days[0])"
   ]
  },
  {
   "cell_type": "code",
   "execution_count": null,
   "id": "6146d3a3-3ebe-46ec-a752-79913d019553",
   "metadata": {},
   "outputs": [],
   "source": [
    "## Getting us holidays for all dates\n",
    "holiday_list = [us_holidays.get(day) for day in all_days]\n",
    "holiday_list[:5]"
   ]
  },
  {
   "cell_type": "code",
   "execution_count": null,
   "id": "5a8a4e37-af67-4f14-85d7-fd502b16e454",
   "metadata": {},
   "outputs": [],
   "source": [
    "# For a specific subdivisions (e.g. state or province):\n",
    "md_holidays = country_holidays('US', subdiv='MD')\n",
    "md_holidays"
   ]
  },
  {
   "cell_type": "code",
   "execution_count": null,
   "id": "cca5072e-71fb-44e2-bd69-0c1f5989165f",
   "metadata": {},
   "outputs": [],
   "source": [
    "## Saving both holiday types as columns\n",
    "df[\"US Holiday\"] = [us_holidays.get(day) for day in df['Date']]\n",
    "df['MD Holiday'] = [md_holidays.get(day) for day in df['Date']]\n",
    "df.head()"
   ]
  },
  {
   "cell_type": "code",
   "execution_count": null,
   "id": "536d5fe0-c615-48df-ac65-50c11cd3755f",
   "metadata": {},
   "outputs": [],
   "source": [
    "## US Holidays\n",
    "df['US Holiday'].value_counts()"
   ]
  },
  {
   "cell_type": "code",
   "execution_count": null,
   "id": "6f6a94d0-d374-4d31-b6ee-6b9c26389cc3",
   "metadata": {},
   "outputs": [],
   "source": [
    "## MD Holidays\n",
    "df['MD Holiday'].value_counts()"
   ]
  },
  {
   "cell_type": "code",
   "execution_count": null,
   "id": "3e7d1f33-fe4d-41a5-82e9-2f0318e43c16",
   "metadata": {},
   "outputs": [],
   "source": [
    "ax = sns.barplot(data=df, x='US Holiday',y='Total_Incidents',estimator=np.sum)\n",
    "ax.set_xticklabels(ax.get_xticklabels(),rotation=45, ha='right');"
   ]
  },
  {
   "cell_type": "code",
   "execution_count": null,
   "id": "d078a1f8-5178-4482-8f38-219a96f17578",
   "metadata": {},
   "outputs": [],
   "source": [
    "## Saving a binary is holiday feature\n",
    "df['Is_Holiday'] = df['US Holiday'].notna()\n",
    "df['Is_Holiday'].value_counts()"
   ]
  }
 ],
 "metadata": {
  "kernelspec": {
   "display_name": "Python (dojo-env)",
   "language": "python",
   "name": "dojo-env"
  },
  "language_info": {
   "codemirror_mode": {
    "name": "ipython",
    "version": 3
   },
   "file_extension": ".py",
   "mimetype": "text/x-python",
   "name": "python",
   "nbconvert_exporter": "python",
   "pygments_lexer": "ipython3",
   "version": "3.10.10"
  }
 },
 "nbformat": 4,
 "nbformat_minor": 5
}
