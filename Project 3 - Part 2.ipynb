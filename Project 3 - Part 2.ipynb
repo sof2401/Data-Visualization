{
 "cells": [
  {
   "cell_type": "code",
   "execution_count": 1,
   "id": "674ac4ec-041c-4a04-9bab-1ebe374c1ae4",
   "metadata": {},
   "outputs": [],
   "source": [
    "import zipfile\n",
    "import pandas as pd\n",
    "import numpy as np\n",
    "import matplotlib as mpl\n",
    "import matplotlib.pyplot as plt\n",
    "import seaborn as sns\n",
    "import os\n",
    "import statsmodels.tsa.api as tsa\n",
    "from pmdarima.model_selection import train_test_split\n",
    "from pmdarima.arima.utils import ndiffs, nsdiffs"
   ]
  },
  {
   "cell_type": "code",
   "execution_count": 2,
   "id": "d9c7f4cb-9347-4f9f-bfd0-63278eaf57d8",
   "metadata": {},
   "outputs": [
    {
     "ename": "FileNotFoundError",
     "evalue": "[Errno 2] No such file or directory: 'info/Chicago_Crime_2001-2022.zip'",
     "output_type": "error",
     "traceback": [
      "\u001b[0;31m---------------------------------------------------------------------------\u001b[0m",
      "\u001b[0;31mFileNotFoundError\u001b[0m                         Traceback (most recent call last)",
      "Cell \u001b[0;32mIn[2], line 2\u001b[0m\n\u001b[1;32m      1\u001b[0m \u001b[38;5;66;03m# Open the ZIP file\u001b[39;00m\n\u001b[0;32m----> 2\u001b[0m \u001b[38;5;28;01mwith\u001b[39;00m \u001b[43mzipfile\u001b[49m\u001b[38;5;241;43m.\u001b[39;49m\u001b[43mZipFile\u001b[49m\u001b[43m(\u001b[49m\u001b[38;5;124;43m'\u001b[39;49m\u001b[38;5;124;43minfo/Chicago_Crime_2001-2022.zip\u001b[39;49m\u001b[38;5;124;43m'\u001b[39;49m\u001b[43m)\u001b[49m \u001b[38;5;28;01mas\u001b[39;00m zf:\n\u001b[1;32m      3\u001b[0m     file_list \u001b[38;5;241m=\u001b[39m zf\u001b[38;5;241m.\u001b[39mnamelist()\n\u001b[1;32m      5\u001b[0m     dfs \u001b[38;5;241m=\u001b[39m []\n",
      "File \u001b[0;32m~/anaconda3/envs/dojo-env/lib/python3.10/zipfile.py:1249\u001b[0m, in \u001b[0;36mZipFile.__init__\u001b[0;34m(self, file, mode, compression, allowZip64, compresslevel, strict_timestamps)\u001b[0m\n\u001b[1;32m   1247\u001b[0m \u001b[38;5;28;01mwhile\u001b[39;00m \u001b[38;5;28;01mTrue\u001b[39;00m:\n\u001b[1;32m   1248\u001b[0m     \u001b[38;5;28;01mtry\u001b[39;00m:\n\u001b[0;32m-> 1249\u001b[0m         \u001b[38;5;28mself\u001b[39m\u001b[38;5;241m.\u001b[39mfp \u001b[38;5;241m=\u001b[39m \u001b[43mio\u001b[49m\u001b[38;5;241;43m.\u001b[39;49m\u001b[43mopen\u001b[49m\u001b[43m(\u001b[49m\u001b[43mfile\u001b[49m\u001b[43m,\u001b[49m\u001b[43m \u001b[49m\u001b[43mfilemode\u001b[49m\u001b[43m)\u001b[49m\n\u001b[1;32m   1250\u001b[0m     \u001b[38;5;28;01mexcept\u001b[39;00m \u001b[38;5;167;01mOSError\u001b[39;00m:\n\u001b[1;32m   1251\u001b[0m         \u001b[38;5;28;01mif\u001b[39;00m filemode \u001b[38;5;129;01min\u001b[39;00m modeDict:\n",
      "\u001b[0;31mFileNotFoundError\u001b[0m: [Errno 2] No such file or directory: 'info/Chicago_Crime_2001-2022.zip'"
     ]
    }
   ],
   "source": [
    "# Open the ZIP file\n",
    "with zipfile.ZipFile('info/Chicago_Crime_2001-2022.zip') as zf:\n",
    "    file_list = zf.namelist()\n",
    "    \n",
    "    dfs = []\n",
    "    \n",
    "    for file_name in file_list:\n",
    "        if file_name.endswith('.csv'):\n",
    "            with zf.open(file_name) as f:\n",
    "                df = pd.read_csv(f)\n",
    "            dfs.append(df)\n",
    "\n",
    "combined_df = pd.concat(dfs, ignore_index=True)\n",
    "\n",
    "combined_df.to_csv('combined_data.csv', index=False)\n",
    "\n",
    "print(combined_df)"
   ]
  },
  {
   "cell_type": "code",
   "execution_count": null,
   "id": "ac40767c-f216-42af-9ef5-5aa1ac50c437",
   "metadata": {},
   "outputs": [],
   "source": [
    "df= pd.read_csv('combined_data.csv')\n",
    "df"
   ]
  },
  {
   "cell_type": "code",
   "execution_count": null,
   "id": "af5ce9b5-8377-4099-af6f-753059ed9064",
   "metadata": {},
   "outputs": [],
   "source": [
    "df['Date'] = pd.to_datetime(df['Date'])\n",
    "df.info()"
   ]
  },
  {
   "cell_type": "code",
   "execution_count": null,
   "id": "b332aa8d-cb08-4ce5-bab1-7af0b8cd8799",
   "metadata": {},
   "outputs": [],
   "source": [
    "df= df.set_index('Date')"
   ]
  },
  {
   "cell_type": "code",
   "execution_count": null,
   "id": "17861500-7f34-4ae7-93bd-ef571d812a7e",
   "metadata": {},
   "outputs": [],
   "source": [
    "df.isna().sum()"
   ]
  },
  {
   "cell_type": "code",
   "execution_count": null,
   "id": "b4f43506-6ff7-41a8-bb04-02ce22bab014",
   "metadata": {},
   "outputs": [],
   "source": [
    "df = df.interpolate()\n",
    "df.isna().sum().sum()"
   ]
  },
  {
   "cell_type": "code",
   "execution_count": null,
   "id": "e8fce0fc-6754-4ee2-906e-162c45ac50de",
   "metadata": {},
   "outputs": [],
   "source": [
    "crime_per_yr = df.groupby([ 'Date','District','Arrest','Domestic','Beat']).size().reset_index(name='Count')\n",
    "crime_per_yr"
   ]
  },
  {
   "cell_type": "code",
   "execution_count": null,
   "id": "2c2350f6-0135-435d-8342-f768abed97b6",
   "metadata": {},
   "outputs": [],
   "source": [
    "decomp = tsa.seasonal_decompose(df)\n",
    "fig = decomp.plot()\n",
    "fig.set_size_inches(12,5)\n",
    "fig.tight_layout()"
   ]
  },
  {
   "cell_type": "code",
   "execution_count": null,
   "id": "766fb696-7d02-492f-8c51-8557611b9209",
   "metadata": {},
   "outputs": [],
   "source": [
    "df= df.resample(\"M\").mean()"
   ]
  },
  {
   "cell_type": "code",
   "execution_count": null,
   "id": "66a44195-e3f7-43bc-b0b6-ae367410b998",
   "metadata": {},
   "outputs": [],
   "source": [
    "d = ndiffs(df)\n",
    "print (f'd = {d}')"
   ]
  },
  {
   "cell_type": "code",
   "execution_count": null,
   "id": "86328000-4695-4313-a59c-34ebc9aaf008",
   "metadata": {},
   "outputs": [],
   "source": [
    "D = nsdiffs(ts, m =12)\n",
    "print(f'D = {D}')"
   ]
  },
  {
   "cell_type": "code",
   "execution_count": null,
   "id": "20e51fca-4d36-4f9d-b403-5bf0fa77dd06",
   "metadata": {},
   "outputs": [],
   "source": [
    "ts_diff = ts.diff().dropna()"
   ]
  },
  {
   "cell_type": "code",
   "execution_count": null,
   "id": "4d610be9-3b1d-4ae9-b500-def4f2619ed3",
   "metadata": {},
   "outputs": [],
   "source": [
    "plot_acf_pacf(ts_diff, annotate_seas=True, m = 12);"
   ]
  },
  {
   "cell_type": "code",
   "execution_count": null,
   "id": "1434bca7-c689-44a1-8842-97cbd0a60d0f",
   "metadata": {},
   "outputs": [],
   "source": [
    "train, test = train_test_split(ts, test_size=.25)\n",
    "ax = train.plot(label='Train')\n",
    "test.plot(ax=ax, label='Test')\n",
    "ax.legend();"
   ]
  },
  {
   "cell_type": "code",
   "execution_count": null,
   "id": "23e96e07-486d-4c30-bcb2-3551a2d234b3",
   "metadata": {},
   "outputs": [],
   "source": [
    "# Fitting a SARIMA model\n",
    "\n",
    "# Orders for non seasonal components\n",
    "p = 1  # nonseasonal AR\n",
    "d = 1  # nonseasonal differencing\n",
    "q = 1  # nonseasonal MA\n",
    "\n",
    "# Orders for seasonal components\n",
    "P = 1  # Seasonal AR\n",
    "D = 0  # Seasonal differencing\n",
    "Q = 1  # Seasonal MA\n",
    "m = 12 # Seasonal period\n",
    "\n",
    "sarima = tsa.ARIMA(train, order = (p,d,q), seasonal_order=(P,D,Q,m)).fit()"
   ]
  },
  {
   "cell_type": "code",
   "execution_count": null,
   "id": "02ae2e0c-e532-4f97-bb33-792d902b5775",
   "metadata": {},
   "outputs": [],
   "source": [
    "# Obtain summary of forecast as dataframe\n",
    "forecast_df = sarima.get_forecast(len(test)).summary_frame()\n",
    "\n",
    "plot_forecast(train, test, forecast_df)\n",
    "\n",
    "regression_metrics_ts(test, forecast_df[\"mean\"])"
   ]
  },
  {
   "cell_type": "code",
   "execution_count": null,
   "id": "6fd96a8f-537e-4b6f-a270-de56e0720308",
   "metadata": {},
   "outputs": [],
   "source": [
    "sarima.summary()"
   ]
  },
  {
   "cell_type": "code",
   "execution_count": null,
   "id": "34b4956a-7bb3-4051-923b-e25bb83e4a73",
   "metadata": {},
   "outputs": [],
   "source": [
    "fig = sarima.plot_diagnostics()\n",
    "fig.set_size_inches(10,6)\n",
    "fig.tight_layout()"
   ]
  },
  {
   "cell_type": "code",
   "execution_count": null,
   "id": "cad0263c-598b-4099-aeb2-5d67534c6c6c",
   "metadata": {},
   "outputs": [],
   "source": []
  }
 ],
 "metadata": {
  "kernelspec": {
   "display_name": "Python (dojo-env)",
   "language": "python",
   "name": "dojo-env"
  },
  "language_info": {
   "codemirror_mode": {
    "name": "ipython",
    "version": 3
   },
   "file_extension": ".py",
   "mimetype": "text/x-python",
   "name": "python",
   "nbconvert_exporter": "python",
   "pygments_lexer": "ipython3",
   "version": "3.10.10"
  }
 },
 "nbformat": 4,
 "nbformat_minor": 5
}
