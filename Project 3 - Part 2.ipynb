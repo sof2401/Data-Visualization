{
 "cells": [
  {
   "cell_type": "code",
   "execution_count": 1,
   "id": "d9c7f4cb-9347-4f9f-bfd0-63278eaf57d8",
   "metadata": {},
   "outputs": [
    {
     "name": "stdout",
     "output_type": "stream",
     "text": [
      "               ID                    Date        Primary Type  \\\n",
      "0         1326041  01/01/2001 01:00:00 AM             BATTERY   \n",
      "1         1319931  01/01/2001 01:00:00 PM             BATTERY   \n",
      "2         1324743  01/01/2001 01:00:00 PM            GAMBLING   \n",
      "3         1310717  01/01/2001 01:00:00 AM     CRIMINAL DAMAGE   \n",
      "4         1318099  01/01/2001 01:00:00 AM             BATTERY   \n",
      "...           ...                     ...                 ...   \n",
      "7713104  12938029  12/31/2022 12:50:00 PM             ASSAULT   \n",
      "7713105  12937822  12/31/2022 12:50:00 PM             ASSAULT   \n",
      "7713106  12937583  12/31/2022 12:52:00 AM             BATTERY   \n",
      "7713107  12938420  12/31/2022 12:52:00 PM             ASSAULT   \n",
      "7713108  12939906  12/31/2022 12:59:00 PM  DECEPTIVE PRACTICE   \n",
      "\n",
      "                                     Description  \\\n",
      "0                                         SIMPLE   \n",
      "1                                         SIMPLE   \n",
      "2                            ILLEGAL ILL LOTTERY   \n",
      "3                                     TO VEHICLE   \n",
      "4                                         SIMPLE   \n",
      "...                                          ...   \n",
      "7713104                                   SIMPLE   \n",
      "7713105                     AGGRAVATED - HANDGUN   \n",
      "7713106                                   SIMPLE   \n",
      "7713107                                   SIMPLE   \n",
      "7713108  FINANCIAL IDENTITY THEFT $300 AND UNDER   \n",
      "\n",
      "                 Location Description  Arrest  Domestic  Beat  District  Ward  \\\n",
      "0                           RESIDENCE   False     False  1624      16.0   NaN   \n",
      "1                           RESIDENCE   False      True   825       8.0   NaN   \n",
      "2                              STREET    True     False   313       3.0   NaN   \n",
      "3                              STREET   False     False  2424      24.0   NaN   \n",
      "4             RESIDENCE PORCH/HALLWAY   False      True   214       2.0   NaN   \n",
      "...                               ...     ...       ...   ...       ...   ...   \n",
      "7713104                     APARTMENT   False     False  1014      10.0  24.0   \n",
      "7713105                     APARTMENT   False      True   733       7.0   6.0   \n",
      "7713106                    BARBERSHOP   False     False  1135      11.0  28.0   \n",
      "7713107  COMMERCIAL / BUSINESS OFFICE   False     False  1432      14.0  32.0   \n",
      "7713108                     RESIDENCE   False     False  1511      15.0  29.0   \n",
      "\n",
      "          Latitude  Longitude  \n",
      "0        41.957850 -87.749185  \n",
      "1        41.783892 -87.684841  \n",
      "2        41.780412 -87.611970  \n",
      "3        42.012391 -87.678032  \n",
      "4        41.819538 -87.620020  \n",
      "...            ...        ...  \n",
      "7713104  41.855911 -87.719966  \n",
      "7713105  41.766546 -87.645669  \n",
      "7713106  41.868829 -87.686098  \n",
      "7713107  41.930693 -87.685657  \n",
      "7713108        NaN        NaN  \n",
      "\n",
      "[7713109 rows x 12 columns]\n"
     ]
    }
   ],
   "source": [
    "import zipfile\n",
    "import pandas as pd\n",
    "\n",
    "# Open the ZIP file\n",
    "with zipfile.ZipFile('info/Chicago_Crime_2001-2022.zip') as zf:\n",
    "    file_list = zf.namelist()\n",
    "    \n",
    "    dfs = []\n",
    "    \n",
    "    for file_name in file_list:\n",
    "        if file_name.endswith('.csv'):\n",
    "            with zf.open(file_name) as f:\n",
    "                df = pd.read_csv(f)\n",
    "            dfs.append(df)\n",
    "\n",
    "combined_df = pd.concat(dfs, ignore_index=True)\n",
    "\n",
    "combined_df.to_csv('combined_data.csv', index=False)\n",
    "\n",
    "print(combined_df)"
   ]
  },
  {
   "cell_type": "code",
   "execution_count": null,
   "id": "ac40767c-f216-42af-9ef5-5aa1ac50c437",
   "metadata": {},
   "outputs": [],
   "source": [
    "df= pd.read_csv('combined_data.csv')\n",
    "df"
   ]
  }
 ],
 "metadata": {
  "kernelspec": {
   "display_name": "Python (dojo-env)",
   "language": "python",
   "name": "dojo-env"
  },
  "language_info": {
   "codemirror_mode": {
    "name": "ipython",
    "version": 3
   },
   "file_extension": ".py",
   "mimetype": "text/x-python",
   "name": "python",
   "nbconvert_exporter": "python",
   "pygments_lexer": "ipython3",
   "version": "3.10.10"
  }
 },
 "nbformat": 4,
 "nbformat_minor": 5
}
