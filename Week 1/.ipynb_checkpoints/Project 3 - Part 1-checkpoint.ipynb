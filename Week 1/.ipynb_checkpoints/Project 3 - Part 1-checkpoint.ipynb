{
 "cells": [
  {
   "cell_type": "code",
   "execution_count": 1,
   "id": "f6910072-3dcb-4e3a-a901-8d530a6441fd",
   "metadata": {},
   "outputs": [],
   "source": [
    "import pandas as pd\n",
    "import os, glob\n",
    "import zipfile\n",
    "\n",
    "#folder= \"Chicago/\"\n",
    "#file_list= sorted(glob.glob(folder+'/*.csv.gz'))\n",
    "#file_list\n",
    "\n",
    "#df= pd.concat([pd.read_csv('Data/Chicago/Chicago_Crime_2001-2022.zip') for f in file_list])\n",
    "#df\n",
    "#csv_files_path = 'info/*.csv'\n",
    "#file_list = glob.glob(csv_files_path)\n",
    "#file_list\n",
    "\n",
    "#df = pd.concat([pd.read_csv(f) for f in file_list])\n",
    "#df"
   ]
  },
  {
   "cell_type": "code",
   "execution_count": 2,
   "id": "6caf84c4-531a-4c86-ad3f-867dcaa6925d",
   "metadata": {},
   "outputs": [
    {
     "data": {
      "text/plain": [
       "'/Users/sofiawang/Documents/GitHub/Data-Visualization/Week 1'"
      ]
     },
     "execution_count": 2,
     "metadata": {},
     "output_type": "execute_result"
    }
   ],
   "source": [
    "os.getcwd()"
   ]
  },
  {
   "cell_type": "code",
   "execution_count": 5,
   "id": "e0255945-1850-4f24-8a1c-f2dd0b43e0c1",
   "metadata": {},
   "outputs": [
    {
     "ename": "FileNotFoundError",
     "evalue": "[Errno 2] No such file or directory: 'info/Chicago_Crime_2001-2022.zip'",
     "output_type": "error",
     "traceback": [
      "\u001b[0;31m---------------------------------------------------------------------------\u001b[0m",
      "\u001b[0;31mFileNotFoundError\u001b[0m                         Traceback (most recent call last)",
      "Cell \u001b[0;32mIn[5], line 5\u001b[0m\n\u001b[1;32m      2\u001b[0m \u001b[38;5;28;01mimport\u001b[39;00m \u001b[38;5;21;01mpandas\u001b[39;00m \u001b[38;5;28;01mas\u001b[39;00m \u001b[38;5;21;01mpd\u001b[39;00m\n\u001b[1;32m      4\u001b[0m \u001b[38;5;66;03m# Open the ZIP file\u001b[39;00m\n\u001b[0;32m----> 5\u001b[0m \u001b[38;5;28;01mwith\u001b[39;00m \u001b[43mzipfile\u001b[49m\u001b[38;5;241;43m.\u001b[39;49m\u001b[43mZipFile\u001b[49m\u001b[43m(\u001b[49m\u001b[38;5;124;43m'\u001b[39;49m\u001b[38;5;124;43minfo/Chicago_Crime_2001-2022.zip\u001b[39;49m\u001b[38;5;124;43m'\u001b[39;49m\u001b[43m)\u001b[49m \u001b[38;5;28;01mas\u001b[39;00m zf:\n\u001b[1;32m      6\u001b[0m     file_list \u001b[38;5;241m=\u001b[39m zf\u001b[38;5;241m.\u001b[39mnamelist()\n\u001b[1;32m      8\u001b[0m     dfs \u001b[38;5;241m=\u001b[39m []\n",
      "File \u001b[0;32m~/anaconda3/envs/dojo-env/lib/python3.10/zipfile.py:1249\u001b[0m, in \u001b[0;36mZipFile.__init__\u001b[0;34m(self, file, mode, compression, allowZip64, compresslevel, strict_timestamps)\u001b[0m\n\u001b[1;32m   1247\u001b[0m \u001b[38;5;28;01mwhile\u001b[39;00m \u001b[38;5;28;01mTrue\u001b[39;00m:\n\u001b[1;32m   1248\u001b[0m     \u001b[38;5;28;01mtry\u001b[39;00m:\n\u001b[0;32m-> 1249\u001b[0m         \u001b[38;5;28mself\u001b[39m\u001b[38;5;241m.\u001b[39mfp \u001b[38;5;241m=\u001b[39m \u001b[43mio\u001b[49m\u001b[38;5;241;43m.\u001b[39;49m\u001b[43mopen\u001b[49m\u001b[43m(\u001b[49m\u001b[43mfile\u001b[49m\u001b[43m,\u001b[49m\u001b[43m \u001b[49m\u001b[43mfilemode\u001b[49m\u001b[43m)\u001b[49m\n\u001b[1;32m   1250\u001b[0m     \u001b[38;5;28;01mexcept\u001b[39;00m \u001b[38;5;167;01mOSError\u001b[39;00m:\n\u001b[1;32m   1251\u001b[0m         \u001b[38;5;28;01mif\u001b[39;00m filemode \u001b[38;5;129;01min\u001b[39;00m modeDict:\n",
      "\u001b[0;31mFileNotFoundError\u001b[0m: [Errno 2] No such file or directory: 'info/Chicago_Crime_2001-2022.zip'"
     ]
    }
   ],
   "source": [
    "import zipfile\n",
    "import pandas as pd\n",
    "\n",
    "# Open the ZIP file\n",
    "with zipfile.ZipFile('Data/Chicago_Crime_2001-2022.zip') as zf:\n",
    "    file_list = zf.namelist()\n",
    "    \n",
    "    dfs = []\n",
    "    \n",
    "    for file_name in file_list:\n",
    "        if file_name.endswith('.csv'):\n",
    "            with zf.open(file_name) as f:\n",
    "                df = pd.read_csv(f)\n",
    "            dfs.append(df)\n",
    "\n",
    "combined_df = pd.concat(dfs, ignore_index=True)\n",
    "\n",
    "combined_df.to_csv('combined_data.csv', index=False)\n",
    "\n",
    "print(combined_df)"
   ]
  },
  {
   "cell_type": "code",
   "execution_count": null,
   "id": "0b529665-b294-4154-b4fc-9bb13f3c2a2e",
   "metadata": {},
   "outputs": [],
   "source": [
    "df= pd.read_csv('combined_data.csv')\n",
    "df"
   ]
  },
  {
   "cell_type": "code",
   "execution_count": null,
   "id": "1eb769bb-369f-4dab-b77b-328f1bde029b",
   "metadata": {},
   "outputs": [],
   "source": [
    "df['Date'] = pd.to_datetime(df['Date'])\n",
    "df.info()"
   ]
  },
  {
   "cell_type": "code",
   "execution_count": null,
   "id": "eb2c80bd-802e-4448-83cc-3f38ccf26016",
   "metadata": {},
   "outputs": [],
   "source": [
    "df= df.set_index('Date')"
   ]
  },
  {
   "cell_type": "code",
   "execution_count": null,
   "id": "023adacb-941b-4b64-be8b-c2244449a355",
   "metadata": {},
   "outputs": [],
   "source": [
    "#Topic 1) Comparing Police Districts\n",
    "crime= df['District'].value_counts().sort_values(ascending=True)\n",
    "crime"
   ]
  },
  {
   "cell_type": "code",
   "execution_count": null,
   "id": "c5ebc38b-f4c2-4d58-9ab4-50dff1c042ea",
   "metadata": {},
   "outputs": [],
   "source": [
    "crime_per_yr = df.groupby([ 'Date','District','Arrest','Domestic','Beat']).size().reset_index(name='Count')\n",
    "crime_per_yr"
   ]
  },
  {
   "cell_type": "code",
   "execution_count": null,
   "id": "285e8e8d-029a-4044-b880-053ff6f84cb2",
   "metadata": {},
   "outputs": [],
   "source": [
    "#Topic 2) Crimes Across the Years\n",
    "\n",
    "df_ts = crime_per_yr.plot(x='Date', y='Count', xlabel='Year', ylabel='Number of Arrests', title='Crimes Across the Years')\n",
    "df_ts"
   ]
  },
  {
   "cell_type": "code",
   "execution_count": null,
   "id": "ffd49cc6-b2fb-415a-bbc9-8ee7aa184823",
   "metadata": {},
   "outputs": [],
   "source": [
    "#Topic 4) Comparing Months\n",
    "\n",
    "# Set 'Date' column as datetime index\n",
    "crime_per_yr.set_index('Date', inplace=True)\n",
    "\n",
    "# Resample the datetime index to monthly frequency\n",
    "crime_per_yr_resampled = crime_per_yr.resample(\"M\").mean()\n",
    "crime_per_yr_resampled"
   ]
  },
  {
   "cell_type": "code",
   "execution_count": null,
   "id": "8e6675dd-7fd8-4d45-ad04-f207dc363d8f",
   "metadata": {},
   "outputs": [],
   "source": [
    "crime_per_yr_resampled.plot(x='Date', y='Count', xlabel='Month', ylabel='Number of Arrests', title='Crimes Across the Years')"
   ]
  },
  {
   "cell_type": "code",
   "execution_count": null,
   "id": "ff5ce2ce-09ba-4dd4-9012-d97974502ccd",
   "metadata": {},
   "outputs": [],
   "source": []
  }
 ],
 "metadata": {
  "kernelspec": {
   "display_name": "Python (dojo-env)",
   "language": "python",
   "name": "dojo-env"
  },
  "language_info": {
   "codemirror_mode": {
    "name": "ipython",
    "version": 3
   },
   "file_extension": ".py",
   "mimetype": "text/x-python",
   "name": "python",
   "nbconvert_exporter": "python",
   "pygments_lexer": "ipython3",
   "version": "3.10.10"
  }
 },
 "nbformat": 4,
 "nbformat_minor": 5
}
