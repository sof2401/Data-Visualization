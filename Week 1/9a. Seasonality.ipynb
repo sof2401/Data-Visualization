{
 "cells": [
  {
   "cell_type": "code",
   "execution_count": 1,
   "id": "52fc25f8-a4f3-4fe7-b040-cf26bfff499a",
   "metadata": {},
   "outputs": [
    {
     "ename": "FileNotFoundError",
     "evalue": "[Errno 2] No such file or directory: 'Data/baltimore_crime_counts_2023.csv'",
     "output_type": "error",
     "traceback": [
      "\u001b[0;31m---------------------------------------------------------------------------\u001b[0m",
      "\u001b[0;31mFileNotFoundError\u001b[0m                         Traceback (most recent call last)",
      "Cell \u001b[0;32mIn[1], line 3\u001b[0m\n\u001b[1;32m      1\u001b[0m \u001b[38;5;28;01mimport\u001b[39;00m \u001b[38;5;21;01mpandas\u001b[39;00m \u001b[38;5;28;01mas\u001b[39;00m \u001b[38;5;21;01mpd\u001b[39;00m\n\u001b[0;32m----> 3\u001b[0m df\u001b[38;5;241m=\u001b[39m \u001b[43mpd\u001b[49m\u001b[38;5;241;43m.\u001b[39;49m\u001b[43mread_csv\u001b[49m\u001b[43m(\u001b[49m\u001b[38;5;124;43m'\u001b[39;49m\u001b[38;5;124;43mData/baltimore_crime_counts_2023.csv\u001b[39;49m\u001b[38;5;124;43m'\u001b[39;49m\u001b[43m)\u001b[49m\n\u001b[1;32m      4\u001b[0m df\n",
      "File \u001b[0;32m~/anaconda3/envs/dojo-env/lib/python3.10/site-packages/pandas/util/_decorators.py:211\u001b[0m, in \u001b[0;36mdeprecate_kwarg.<locals>._deprecate_kwarg.<locals>.wrapper\u001b[0;34m(*args, **kwargs)\u001b[0m\n\u001b[1;32m    209\u001b[0m     \u001b[38;5;28;01melse\u001b[39;00m:\n\u001b[1;32m    210\u001b[0m         kwargs[new_arg_name] \u001b[38;5;241m=\u001b[39m new_arg_value\n\u001b[0;32m--> 211\u001b[0m \u001b[38;5;28;01mreturn\u001b[39;00m \u001b[43mfunc\u001b[49m\u001b[43m(\u001b[49m\u001b[38;5;241;43m*\u001b[39;49m\u001b[43margs\u001b[49m\u001b[43m,\u001b[49m\u001b[43m \u001b[49m\u001b[38;5;241;43m*\u001b[39;49m\u001b[38;5;241;43m*\u001b[39;49m\u001b[43mkwargs\u001b[49m\u001b[43m)\u001b[49m\n",
      "File \u001b[0;32m~/anaconda3/envs/dojo-env/lib/python3.10/site-packages/pandas/util/_decorators.py:331\u001b[0m, in \u001b[0;36mdeprecate_nonkeyword_arguments.<locals>.decorate.<locals>.wrapper\u001b[0;34m(*args, **kwargs)\u001b[0m\n\u001b[1;32m    325\u001b[0m \u001b[38;5;28;01mif\u001b[39;00m \u001b[38;5;28mlen\u001b[39m(args) \u001b[38;5;241m>\u001b[39m num_allow_args:\n\u001b[1;32m    326\u001b[0m     warnings\u001b[38;5;241m.\u001b[39mwarn(\n\u001b[1;32m    327\u001b[0m         msg\u001b[38;5;241m.\u001b[39mformat(arguments\u001b[38;5;241m=\u001b[39m_format_argument_list(allow_args)),\n\u001b[1;32m    328\u001b[0m         \u001b[38;5;167;01mFutureWarning\u001b[39;00m,\n\u001b[1;32m    329\u001b[0m         stacklevel\u001b[38;5;241m=\u001b[39mfind_stack_level(),\n\u001b[1;32m    330\u001b[0m     )\n\u001b[0;32m--> 331\u001b[0m \u001b[38;5;28;01mreturn\u001b[39;00m \u001b[43mfunc\u001b[49m\u001b[43m(\u001b[49m\u001b[38;5;241;43m*\u001b[39;49m\u001b[43margs\u001b[49m\u001b[43m,\u001b[49m\u001b[43m \u001b[49m\u001b[38;5;241;43m*\u001b[39;49m\u001b[38;5;241;43m*\u001b[39;49m\u001b[43mkwargs\u001b[49m\u001b[43m)\u001b[49m\n",
      "File \u001b[0;32m~/anaconda3/envs/dojo-env/lib/python3.10/site-packages/pandas/io/parsers/readers.py:950\u001b[0m, in \u001b[0;36mread_csv\u001b[0;34m(filepath_or_buffer, sep, delimiter, header, names, index_col, usecols, squeeze, prefix, mangle_dupe_cols, dtype, engine, converters, true_values, false_values, skipinitialspace, skiprows, skipfooter, nrows, na_values, keep_default_na, na_filter, verbose, skip_blank_lines, parse_dates, infer_datetime_format, keep_date_col, date_parser, dayfirst, cache_dates, iterator, chunksize, compression, thousands, decimal, lineterminator, quotechar, quoting, doublequote, escapechar, comment, encoding, encoding_errors, dialect, error_bad_lines, warn_bad_lines, on_bad_lines, delim_whitespace, low_memory, memory_map, float_precision, storage_options)\u001b[0m\n\u001b[1;32m    935\u001b[0m kwds_defaults \u001b[38;5;241m=\u001b[39m _refine_defaults_read(\n\u001b[1;32m    936\u001b[0m     dialect,\n\u001b[1;32m    937\u001b[0m     delimiter,\n\u001b[0;32m   (...)\u001b[0m\n\u001b[1;32m    946\u001b[0m     defaults\u001b[38;5;241m=\u001b[39m{\u001b[38;5;124m\"\u001b[39m\u001b[38;5;124mdelimiter\u001b[39m\u001b[38;5;124m\"\u001b[39m: \u001b[38;5;124m\"\u001b[39m\u001b[38;5;124m,\u001b[39m\u001b[38;5;124m\"\u001b[39m},\n\u001b[1;32m    947\u001b[0m )\n\u001b[1;32m    948\u001b[0m kwds\u001b[38;5;241m.\u001b[39mupdate(kwds_defaults)\n\u001b[0;32m--> 950\u001b[0m \u001b[38;5;28;01mreturn\u001b[39;00m \u001b[43m_read\u001b[49m\u001b[43m(\u001b[49m\u001b[43mfilepath_or_buffer\u001b[49m\u001b[43m,\u001b[49m\u001b[43m \u001b[49m\u001b[43mkwds\u001b[49m\u001b[43m)\u001b[49m\n",
      "File \u001b[0;32m~/anaconda3/envs/dojo-env/lib/python3.10/site-packages/pandas/io/parsers/readers.py:605\u001b[0m, in \u001b[0;36m_read\u001b[0;34m(filepath_or_buffer, kwds)\u001b[0m\n\u001b[1;32m    602\u001b[0m _validate_names(kwds\u001b[38;5;241m.\u001b[39mget(\u001b[38;5;124m\"\u001b[39m\u001b[38;5;124mnames\u001b[39m\u001b[38;5;124m\"\u001b[39m, \u001b[38;5;28;01mNone\u001b[39;00m))\n\u001b[1;32m    604\u001b[0m \u001b[38;5;66;03m# Create the parser.\u001b[39;00m\n\u001b[0;32m--> 605\u001b[0m parser \u001b[38;5;241m=\u001b[39m \u001b[43mTextFileReader\u001b[49m\u001b[43m(\u001b[49m\u001b[43mfilepath_or_buffer\u001b[49m\u001b[43m,\u001b[49m\u001b[43m \u001b[49m\u001b[38;5;241;43m*\u001b[39;49m\u001b[38;5;241;43m*\u001b[39;49m\u001b[43mkwds\u001b[49m\u001b[43m)\u001b[49m\n\u001b[1;32m    607\u001b[0m \u001b[38;5;28;01mif\u001b[39;00m chunksize \u001b[38;5;129;01mor\u001b[39;00m iterator:\n\u001b[1;32m    608\u001b[0m     \u001b[38;5;28;01mreturn\u001b[39;00m parser\n",
      "File \u001b[0;32m~/anaconda3/envs/dojo-env/lib/python3.10/site-packages/pandas/io/parsers/readers.py:1442\u001b[0m, in \u001b[0;36mTextFileReader.__init__\u001b[0;34m(self, f, engine, **kwds)\u001b[0m\n\u001b[1;32m   1439\u001b[0m     \u001b[38;5;28mself\u001b[39m\u001b[38;5;241m.\u001b[39moptions[\u001b[38;5;124m\"\u001b[39m\u001b[38;5;124mhas_index_names\u001b[39m\u001b[38;5;124m\"\u001b[39m] \u001b[38;5;241m=\u001b[39m kwds[\u001b[38;5;124m\"\u001b[39m\u001b[38;5;124mhas_index_names\u001b[39m\u001b[38;5;124m\"\u001b[39m]\n\u001b[1;32m   1441\u001b[0m \u001b[38;5;28mself\u001b[39m\u001b[38;5;241m.\u001b[39mhandles: IOHandles \u001b[38;5;241m|\u001b[39m \u001b[38;5;28;01mNone\u001b[39;00m \u001b[38;5;241m=\u001b[39m \u001b[38;5;28;01mNone\u001b[39;00m\n\u001b[0;32m-> 1442\u001b[0m \u001b[38;5;28mself\u001b[39m\u001b[38;5;241m.\u001b[39m_engine \u001b[38;5;241m=\u001b[39m \u001b[38;5;28;43mself\u001b[39;49m\u001b[38;5;241;43m.\u001b[39;49m\u001b[43m_make_engine\u001b[49m\u001b[43m(\u001b[49m\u001b[43mf\u001b[49m\u001b[43m,\u001b[49m\u001b[43m \u001b[49m\u001b[38;5;28;43mself\u001b[39;49m\u001b[38;5;241;43m.\u001b[39;49m\u001b[43mengine\u001b[49m\u001b[43m)\u001b[49m\n",
      "File \u001b[0;32m~/anaconda3/envs/dojo-env/lib/python3.10/site-packages/pandas/io/parsers/readers.py:1735\u001b[0m, in \u001b[0;36mTextFileReader._make_engine\u001b[0;34m(self, f, engine)\u001b[0m\n\u001b[1;32m   1733\u001b[0m     \u001b[38;5;28;01mif\u001b[39;00m \u001b[38;5;124m\"\u001b[39m\u001b[38;5;124mb\u001b[39m\u001b[38;5;124m\"\u001b[39m \u001b[38;5;129;01mnot\u001b[39;00m \u001b[38;5;129;01min\u001b[39;00m mode:\n\u001b[1;32m   1734\u001b[0m         mode \u001b[38;5;241m+\u001b[39m\u001b[38;5;241m=\u001b[39m \u001b[38;5;124m\"\u001b[39m\u001b[38;5;124mb\u001b[39m\u001b[38;5;124m\"\u001b[39m\n\u001b[0;32m-> 1735\u001b[0m \u001b[38;5;28mself\u001b[39m\u001b[38;5;241m.\u001b[39mhandles \u001b[38;5;241m=\u001b[39m \u001b[43mget_handle\u001b[49m\u001b[43m(\u001b[49m\n\u001b[1;32m   1736\u001b[0m \u001b[43m    \u001b[49m\u001b[43mf\u001b[49m\u001b[43m,\u001b[49m\n\u001b[1;32m   1737\u001b[0m \u001b[43m    \u001b[49m\u001b[43mmode\u001b[49m\u001b[43m,\u001b[49m\n\u001b[1;32m   1738\u001b[0m \u001b[43m    \u001b[49m\u001b[43mencoding\u001b[49m\u001b[38;5;241;43m=\u001b[39;49m\u001b[38;5;28;43mself\u001b[39;49m\u001b[38;5;241;43m.\u001b[39;49m\u001b[43moptions\u001b[49m\u001b[38;5;241;43m.\u001b[39;49m\u001b[43mget\u001b[49m\u001b[43m(\u001b[49m\u001b[38;5;124;43m\"\u001b[39;49m\u001b[38;5;124;43mencoding\u001b[39;49m\u001b[38;5;124;43m\"\u001b[39;49m\u001b[43m,\u001b[49m\u001b[43m \u001b[49m\u001b[38;5;28;43;01mNone\u001b[39;49;00m\u001b[43m)\u001b[49m\u001b[43m,\u001b[49m\n\u001b[1;32m   1739\u001b[0m \u001b[43m    \u001b[49m\u001b[43mcompression\u001b[49m\u001b[38;5;241;43m=\u001b[39;49m\u001b[38;5;28;43mself\u001b[39;49m\u001b[38;5;241;43m.\u001b[39;49m\u001b[43moptions\u001b[49m\u001b[38;5;241;43m.\u001b[39;49m\u001b[43mget\u001b[49m\u001b[43m(\u001b[49m\u001b[38;5;124;43m\"\u001b[39;49m\u001b[38;5;124;43mcompression\u001b[39;49m\u001b[38;5;124;43m\"\u001b[39;49m\u001b[43m,\u001b[49m\u001b[43m \u001b[49m\u001b[38;5;28;43;01mNone\u001b[39;49;00m\u001b[43m)\u001b[49m\u001b[43m,\u001b[49m\n\u001b[1;32m   1740\u001b[0m \u001b[43m    \u001b[49m\u001b[43mmemory_map\u001b[49m\u001b[38;5;241;43m=\u001b[39;49m\u001b[38;5;28;43mself\u001b[39;49m\u001b[38;5;241;43m.\u001b[39;49m\u001b[43moptions\u001b[49m\u001b[38;5;241;43m.\u001b[39;49m\u001b[43mget\u001b[49m\u001b[43m(\u001b[49m\u001b[38;5;124;43m\"\u001b[39;49m\u001b[38;5;124;43mmemory_map\u001b[39;49m\u001b[38;5;124;43m\"\u001b[39;49m\u001b[43m,\u001b[49m\u001b[43m \u001b[49m\u001b[38;5;28;43;01mFalse\u001b[39;49;00m\u001b[43m)\u001b[49m\u001b[43m,\u001b[49m\n\u001b[1;32m   1741\u001b[0m \u001b[43m    \u001b[49m\u001b[43mis_text\u001b[49m\u001b[38;5;241;43m=\u001b[39;49m\u001b[43mis_text\u001b[49m\u001b[43m,\u001b[49m\n\u001b[1;32m   1742\u001b[0m \u001b[43m    \u001b[49m\u001b[43merrors\u001b[49m\u001b[38;5;241;43m=\u001b[39;49m\u001b[38;5;28;43mself\u001b[39;49m\u001b[38;5;241;43m.\u001b[39;49m\u001b[43moptions\u001b[49m\u001b[38;5;241;43m.\u001b[39;49m\u001b[43mget\u001b[49m\u001b[43m(\u001b[49m\u001b[38;5;124;43m\"\u001b[39;49m\u001b[38;5;124;43mencoding_errors\u001b[39;49m\u001b[38;5;124;43m\"\u001b[39;49m\u001b[43m,\u001b[49m\u001b[43m \u001b[49m\u001b[38;5;124;43m\"\u001b[39;49m\u001b[38;5;124;43mstrict\u001b[39;49m\u001b[38;5;124;43m\"\u001b[39;49m\u001b[43m)\u001b[49m\u001b[43m,\u001b[49m\n\u001b[1;32m   1743\u001b[0m \u001b[43m    \u001b[49m\u001b[43mstorage_options\u001b[49m\u001b[38;5;241;43m=\u001b[39;49m\u001b[38;5;28;43mself\u001b[39;49m\u001b[38;5;241;43m.\u001b[39;49m\u001b[43moptions\u001b[49m\u001b[38;5;241;43m.\u001b[39;49m\u001b[43mget\u001b[49m\u001b[43m(\u001b[49m\u001b[38;5;124;43m\"\u001b[39;49m\u001b[38;5;124;43mstorage_options\u001b[39;49m\u001b[38;5;124;43m\"\u001b[39;49m\u001b[43m,\u001b[49m\u001b[43m \u001b[49m\u001b[38;5;28;43;01mNone\u001b[39;49;00m\u001b[43m)\u001b[49m\u001b[43m,\u001b[49m\n\u001b[1;32m   1744\u001b[0m \u001b[43m\u001b[49m\u001b[43m)\u001b[49m\n\u001b[1;32m   1745\u001b[0m \u001b[38;5;28;01massert\u001b[39;00m \u001b[38;5;28mself\u001b[39m\u001b[38;5;241m.\u001b[39mhandles \u001b[38;5;129;01mis\u001b[39;00m \u001b[38;5;129;01mnot\u001b[39;00m \u001b[38;5;28;01mNone\u001b[39;00m\n\u001b[1;32m   1746\u001b[0m f \u001b[38;5;241m=\u001b[39m \u001b[38;5;28mself\u001b[39m\u001b[38;5;241m.\u001b[39mhandles\u001b[38;5;241m.\u001b[39mhandle\n",
      "File \u001b[0;32m~/anaconda3/envs/dojo-env/lib/python3.10/site-packages/pandas/io/common.py:856\u001b[0m, in \u001b[0;36mget_handle\u001b[0;34m(path_or_buf, mode, encoding, compression, memory_map, is_text, errors, storage_options)\u001b[0m\n\u001b[1;32m    851\u001b[0m \u001b[38;5;28;01melif\u001b[39;00m \u001b[38;5;28misinstance\u001b[39m(handle, \u001b[38;5;28mstr\u001b[39m):\n\u001b[1;32m    852\u001b[0m     \u001b[38;5;66;03m# Check whether the filename is to be opened in binary mode.\u001b[39;00m\n\u001b[1;32m    853\u001b[0m     \u001b[38;5;66;03m# Binary mode does not support 'encoding' and 'newline'.\u001b[39;00m\n\u001b[1;32m    854\u001b[0m     \u001b[38;5;28;01mif\u001b[39;00m ioargs\u001b[38;5;241m.\u001b[39mencoding \u001b[38;5;129;01mand\u001b[39;00m \u001b[38;5;124m\"\u001b[39m\u001b[38;5;124mb\u001b[39m\u001b[38;5;124m\"\u001b[39m \u001b[38;5;129;01mnot\u001b[39;00m \u001b[38;5;129;01min\u001b[39;00m ioargs\u001b[38;5;241m.\u001b[39mmode:\n\u001b[1;32m    855\u001b[0m         \u001b[38;5;66;03m# Encoding\u001b[39;00m\n\u001b[0;32m--> 856\u001b[0m         handle \u001b[38;5;241m=\u001b[39m \u001b[38;5;28;43mopen\u001b[39;49m\u001b[43m(\u001b[49m\n\u001b[1;32m    857\u001b[0m \u001b[43m            \u001b[49m\u001b[43mhandle\u001b[49m\u001b[43m,\u001b[49m\n\u001b[1;32m    858\u001b[0m \u001b[43m            \u001b[49m\u001b[43mioargs\u001b[49m\u001b[38;5;241;43m.\u001b[39;49m\u001b[43mmode\u001b[49m\u001b[43m,\u001b[49m\n\u001b[1;32m    859\u001b[0m \u001b[43m            \u001b[49m\u001b[43mencoding\u001b[49m\u001b[38;5;241;43m=\u001b[39;49m\u001b[43mioargs\u001b[49m\u001b[38;5;241;43m.\u001b[39;49m\u001b[43mencoding\u001b[49m\u001b[43m,\u001b[49m\n\u001b[1;32m    860\u001b[0m \u001b[43m            \u001b[49m\u001b[43merrors\u001b[49m\u001b[38;5;241;43m=\u001b[39;49m\u001b[43merrors\u001b[49m\u001b[43m,\u001b[49m\n\u001b[1;32m    861\u001b[0m \u001b[43m            \u001b[49m\u001b[43mnewline\u001b[49m\u001b[38;5;241;43m=\u001b[39;49m\u001b[38;5;124;43m\"\u001b[39;49m\u001b[38;5;124;43m\"\u001b[39;49m\u001b[43m,\u001b[49m\n\u001b[1;32m    862\u001b[0m \u001b[43m        \u001b[49m\u001b[43m)\u001b[49m\n\u001b[1;32m    863\u001b[0m     \u001b[38;5;28;01melse\u001b[39;00m:\n\u001b[1;32m    864\u001b[0m         \u001b[38;5;66;03m# Binary mode\u001b[39;00m\n\u001b[1;32m    865\u001b[0m         handle \u001b[38;5;241m=\u001b[39m \u001b[38;5;28mopen\u001b[39m(handle, ioargs\u001b[38;5;241m.\u001b[39mmode)\n",
      "\u001b[0;31mFileNotFoundError\u001b[0m: [Errno 2] No such file or directory: 'Data/baltimore_crime_counts_2023.csv'"
     ]
    }
   ],
   "source": [
    "import pandas as pd\n",
    "\n",
    "df= pd.read_csv('Data/baltimore_crime_counts_2023.csv')\n",
    "df"
   ]
  },
  {
   "cell_type": "code",
   "execution_count": null,
   "id": "14e66b6c-d12c-4f28-a8f4-29e1e3af2502",
   "metadata": {},
   "outputs": [],
   "source": [
    "crimes = ['LARCENY','LARCENY FROM AUTO', 'AUTO THEFT','SHOOTING','ROBBERY - CARJACKING']\n",
    "crimes_ts = df[crimes].copy()\n",
    "crimes_ts.head()"
   ]
  },
  {
   "cell_type": "code",
   "execution_count": null,
   "id": "06f2b8ff-7383-442a-bf26-18862c7a3141",
   "metadata": {},
   "outputs": [],
   "source": [
    "crimes_ts.isna().sum()"
   ]
  },
  {
   "cell_type": "code",
   "execution_count": null,
   "id": "1804dc63-0765-4f98-b77b-b4c39a37df68",
   "metadata": {},
   "outputs": [],
   "source": [
    "## fill null values with 0\n",
    "crimes_ts = crimes_ts.fillna(0)\n",
    "crimes_ts"
   ]
  },
  {
   "cell_type": "code",
   "execution_count": null,
   "id": "15196e3e-7c7d-4826-a6bd-ee0aacfe1120",
   "metadata": {},
   "outputs": [],
   "source": [
    "crimes_ts.plot(grid=True,alpha=0.7);"
   ]
  },
  {
   "cell_type": "code",
   "execution_count": null,
   "id": "0bb74149-66eb-4978-92be-17398a89f272",
   "metadata": {},
   "outputs": [],
   "source": [
    "# IDENTIFYING SEASONALITY\n",
    "\n",
    "plot_df = crimes_ts.loc['2017':'2021']\n",
    "plot_df.plot(grid=True);"
   ]
  },
  {
   "cell_type": "code",
   "execution_count": null,
   "id": "1bb6cb1b-366b-42d7-a836-ab21eb475ce3",
   "metadata": {},
   "outputs": [],
   "source": [
    "plot_df = crimes_ts.loc['2017':'2021']\n",
    "plot_df.plot(grid=True);"
   ]
  },
  {
   "cell_type": "code",
   "execution_count": null,
   "id": "a3e9ef8c-fe52-4cbb-852e-04585e34e25c",
   "metadata": {},
   "outputs": [],
   "source": [
    "plot_df.plot(subplots=True,figsize=(10,12),grid=True);"
   ]
  },
  {
   "cell_type": "code",
   "execution_count": null,
   "id": "04f30487-42bd-4333-9255-e5caa73d9b14",
   "metadata": {},
   "outputs": [],
   "source": [
    "plot_df_W = crimes_ts.loc['2017':'2021'].resample('W').sum()\n",
    "plot_df_W.plot(grid=True,subplots=True,figsize=(10,15));"
   ]
  },
  {
   "cell_type": "code",
   "execution_count": null,
   "id": "0a065631-4231-41da-bc4b-3bac0299be66",
   "metadata": {},
   "outputs": [],
   "source": [
    "plot_df_W.rolling(4).mean().dropna().plot(subplots=True,figsize=(10,12));"
   ]
  },
  {
   "cell_type": "code",
   "execution_count": null,
   "id": "2d37d042-7aae-47b3-8691-c40f1e4d68a5",
   "metadata": {},
   "outputs": [],
   "source": [
    "# SEASONAL DECOMPOSITION\n",
    "\n",
    "# import the statsmodels time series analysis api module\n",
    "import statsmodels.tsa.api as tsa"
   ]
  },
  {
   "cell_type": "code",
   "execution_count": null,
   "id": "83e33870-4296-4005-9526-8dc416e54206",
   "metadata": {},
   "outputs": [],
   "source": [
    "crime_type = \"LARCENY FROM AUTO\"\n",
    "ts = plot_df_W[crime_type]\n",
    "ts.plot(title=crime_type)"
   ]
  },
  {
   "cell_type": "code",
   "execution_count": null,
   "id": "16e09a45-7032-48a6-8087-cb588736faf9",
   "metadata": {},
   "outputs": [],
   "source": [
    "decomp = tsa.seasonal_decompose(ts)\n",
    "decomp"
   ]
  },
  {
   "cell_type": "code",
   "execution_count": null,
   "id": "8d9bdf9a-6883-44ed-b09e-a19bfab1c417",
   "metadata": {},
   "outputs": [],
   "source": [
    "# VISUALIZING DECOMP RESULTS\n",
    "\n",
    "fig = decomp.plot()"
   ]
  },
  {
   "cell_type": "code",
   "execution_count": null,
   "id": "286e9e22-cba8-4700-adb0-e3dff69e383a",
   "metadata": {},
   "outputs": [],
   "source": [
    "fig = decomp.plot()\n",
    "fig.set_size_inches(10,8)\n",
    "fig.tight_layout()"
   ]
  },
  {
   "cell_type": "code",
   "execution_count": null,
   "id": "6041c647-a892-4e21-81ca-60d9dd7497fd",
   "metadata": {},
   "outputs": [],
   "source": [
    "decomp.trend"
   ]
  },
  {
   "cell_type": "code",
   "execution_count": null,
   "id": "74eeb8ae-1ee3-4ad9-b21c-b25f527db581",
   "metadata": {},
   "outputs": [],
   "source": [
    "decomp.trend.plot(title='Trend');"
   ]
  },
  {
   "cell_type": "code",
   "execution_count": null,
   "id": "c5938583-86fd-4e2c-9c0e-6dbb8ac59297",
   "metadata": {},
   "outputs": [],
   "source": [
    "decomp.seasonal.head()"
   ]
  },
  {
   "cell_type": "code",
   "execution_count": null,
   "id": "a2aa2632-ab4b-41e8-8f78-c8f182e8d599",
   "metadata": {},
   "outputs": [],
   "source": [
    "decomp.seasonal.plot(title='Seasonal');"
   ]
  },
  {
   "cell_type": "code",
   "execution_count": null,
   "id": "5b74d2cb-c4e0-4fc0-a933-c063af0c00de",
   "metadata": {},
   "outputs": [],
   "source": [
    "decomp.resid.head()"
   ]
  },
  {
   "cell_type": "code",
   "execution_count": null,
   "id": "2e8033e1-2aa4-4b75-9f3a-d27f31576a11",
   "metadata": {},
   "outputs": [],
   "source": [
    "decomp.resid.plot(title='Residual');"
   ]
  },
  {
   "cell_type": "code",
   "execution_count": null,
   "id": "bb94d685-6e23-43ca-893a-a4afd0057eda",
   "metadata": {},
   "outputs": [],
   "source": [
    "# Adding decomposition components together\n",
    "ts_model = decomp.trend + decomp.seasonal + decomp.resid\n",
    "# Visualize the result\n",
    "ax = ts_model.plot(label='Recombined from Decomposition')\n",
    "ax.legend()"
   ]
  },
  {
   "cell_type": "code",
   "execution_count": null,
   "id": "59628691-52b7-43e5-a62a-b5b046cddacd",
   "metadata": {},
   "outputs": [],
   "source": [
    "ax = ts.plot(label='Original, Raw')\n",
    "ts_model.plot(label='Recombined from Decomposition',ax=ax, ls='--', alpha=0.8)\n",
    "ax.legend();"
   ]
  },
  {
   "cell_type": "code",
   "execution_count": null,
   "id": "38b53cf0-3ba2-43e6-889f-b99bcda951e4",
   "metadata": {},
   "outputs": [],
   "source": [
    "seasonal = decomp.seasonal\n",
    "ax = seasonal.plot(title=f'Seasonal Component for {crime_type}');\n",
    "ax.grid(which='both', axis='x')"
   ]
  },
  {
   "cell_type": "code",
   "execution_count": null,
   "id": "2e97ed5c-266e-4a1f-8097-e389bdf7e826",
   "metadata": {},
   "outputs": [],
   "source": [
    "import matplotlib.dates as mdates\n",
    "minor_loc = mdates.MonthLocator()\n",
    "fig, ax = plt.subplots()\n",
    "ax.plot(seasonal)\n",
    "ax.set(title=f'Seasonal Component for {crime_type}');\n",
    "ax.xaxis.set_minor_locator(minor_loc)\n",
    "ax.grid(which='major', axis='x',lw=1, color='k')\n",
    "ax.grid(which='minor',axis='x',lw=0.5)\n",
    "fig.autofmt_xdate(rotation=90, ha='center')"
   ]
  },
  {
   "cell_type": "code",
   "execution_count": null,
   "id": "b4b82824-5a0e-43da-9756-e204e06f5da5",
   "metadata": {},
   "outputs": [],
   "source": [
    "seasonal.max()"
   ]
  },
  {
   "cell_type": "code",
   "execution_count": null,
   "id": "c90fe4ba-944d-4761-a659-dc4a3ed39f40",
   "metadata": {},
   "outputs": [],
   "source": [
    "seasonal.min()"
   ]
  },
  {
   "cell_type": "code",
   "execution_count": null,
   "id": "eab332dc-63be-486e-9369-297fb8a828ef",
   "metadata": {},
   "outputs": [],
   "source": [
    "magnitude = seasonal.max() - seasonal.min()\n",
    "magnitude"
   ]
  },
  {
   "cell_type": "code",
   "execution_count": null,
   "id": "9f57c523-f73f-4ab4-b7b2-bcc1db18eab3",
   "metadata": {},
   "outputs": [],
   "source": [
    "seasonal.idxmax()"
   ]
  },
  {
   "cell_type": "code",
   "execution_count": null,
   "id": "444390c9-f733-4a0b-b1ef-7234d819a474",
   "metadata": {},
   "outputs": [],
   "source": [
    "seasonal.idxmin()"
   ]
  },
  {
   "cell_type": "code",
   "execution_count": null,
   "id": "d0b1c3cc-2960-4767-a8df-8be71e43cb23",
   "metadata": {},
   "outputs": [],
   "source": [
    "# ANNOTATING PERIODS\n",
    "\n",
    "import matplotlib.dates as mdates\n",
    "def plot_seasonal(seasonal):\n",
    "    minor_loc = mdates.MonthLocator()\n",
    "    fig, ax = plt.subplots()\n",
    "    ax.plot(seasonal)\n",
    "    ax.set(title=f'Seasonal Component for {crime_type}');\n",
    "    ax.xaxis.set_minor_locator(minor_loc)\n",
    "    ax.grid(which='major', axis='x',lw=1, color='k')\n",
    "    ax.grid(which='minor',axis='x',lw=0.5)\n",
    "    fig.autofmt_xdate(rotation=90, ha='center')\n",
    "    \n",
    "    return fig, ax"
   ]
  },
  {
   "cell_type": "code",
   "execution_count": null,
   "id": "887afe9f-0d3a-4e9a-879e-0b39d3886040",
   "metadata": {},
   "outputs": [],
   "source": [
    "fig, ax = plot_seasonal(seasonal)\n",
    "ax.axvspan(seasonal.idxmin(),seasonal.idxmax(), color='lightgreen');"
   ]
  },
  {
   "cell_type": "code",
   "execution_count": null,
   "id": "35d7e68b-39cf-4eb7-9ab1-1c270c6b943e",
   "metadata": {},
   "outputs": [],
   "source": [
    "delta = seasonal.idxmax() - seasonal.idxmin()\n",
    "delta"
   ]
  },
  {
   "cell_type": "code",
   "execution_count": null,
   "id": "e9046b41-8ec4-4354-ae5d-6b0417972fd1",
   "metadata": {},
   "outputs": [],
   "source": [
    "from scipy.signal import find_peaks\n",
    "peaks, props = find_peaks(seasonal, height=seasonal.max())"
   ]
  },
  {
   "cell_type": "code",
   "execution_count": null,
   "id": "08373617-48f0-4156-95e0-197bda17a004",
   "metadata": {},
   "outputs": [],
   "source": [
    "peaks"
   ]
  },
  {
   "cell_type": "code",
   "execution_count": null,
   "id": "91c08f61-7835-4816-8871-9ddbb7d44675",
   "metadata": {},
   "outputs": [],
   "source": [
    "props"
   ]
  },
  {
   "cell_type": "code",
   "execution_count": null,
   "id": "60eb251a-fbb0-4062-b3f5-f838888db0f6",
   "metadata": {},
   "outputs": [],
   "source": [
    "peak_dates = seasonal.index[peaks]\n",
    "peak_dates"
   ]
  },
  {
   "cell_type": "code",
   "execution_count": null,
   "id": "891a43e3-b89b-4ad6-bf59-af9fc139036a",
   "metadata": {},
   "outputs": [],
   "source": [
    "fig,ax = plot_seasonal(seasonal)\n",
    "ax.scatter(peak_dates, props['peak_heights'], color='orange');"
   ]
  },
  {
   "cell_type": "code",
   "execution_count": null,
   "id": "3ac7adc1-cc7d-4e5d-a0f3-3b0f65b5c362",
   "metadata": {},
   "outputs": [],
   "source": [
    "peak_dates"
   ]
  },
  {
   "cell_type": "code",
   "execution_count": null,
   "id": "60db284a-4d00-4f37-bfe6-58102043237a",
   "metadata": {},
   "outputs": [],
   "source": [
    "period = peak_dates[1] - peak_dates[0]\n",
    "period"
   ]
  },
  {
   "cell_type": "code",
   "execution_count": null,
   "id": "507938c9-f430-438f-bc24-63744a025b7c",
   "metadata": {},
   "outputs": [],
   "source": [
    "periods = []\n",
    "for i in range(len(peak_dates)-1):\n",
    "    delta = peak_dates[i+1] - peak_dates[i]\n",
    "    periods.append(delta)\n",
    "periods"
   ]
  },
  {
   "cell_type": "code",
   "execution_count": null,
   "id": "c61c50e6-afd0-48de-96ed-88f01dce432d",
   "metadata": {},
   "outputs": [],
   "source": [
    "# FINAL ANNOTATION\n",
    "fig, ax = plot_seasonal(seasonal)\n",
    "season_start = seasonal.idxmin()\n",
    "ax.axvspan( season_start, season_start +period, color='lightgreen')\n",
    "ax.axvline(season_start, color='green', ls='--',\n",
    "           label=f\"Start of Season {season_start.strftime('%B')}\")\n",
    "ax.legend();"
   ]
  },
  {
   "cell_type": "code",
   "execution_count": null,
   "id": "74ee1cce-8d2f-40df-a34e-61b4fe9d5748",
   "metadata": {},
   "outputs": [],
   "source": [
    "seasonal.max() - seasonal.min()"
   ]
  }
 ],
 "metadata": {
  "kernelspec": {
   "display_name": "Python (dojo-env)",
   "language": "python",
   "name": "dojo-env"
  },
  "language_info": {
   "codemirror_mode": {
    "name": "ipython",
    "version": 3
   },
   "file_extension": ".py",
   "mimetype": "text/x-python",
   "name": "python",
   "nbconvert_exporter": "python",
   "pygments_lexer": "ipython3",
   "version": "3.10.10"
  }
 },
 "nbformat": 4,
 "nbformat_minor": 5
}
