{
 "cells": [
  {
   "cell_type": "code",
   "execution_count": 1,
   "id": "50e79b67-5ccc-44f3-bfbb-d11c7cfc64af",
   "metadata": {},
   "outputs": [],
   "source": [
    "import pandas as pd"
   ]
  },
  {
   "cell_type": "code",
   "execution_count": 2,
   "id": "4c51cd56-2852-4ad1-bd9f-27c0db71d5ed",
   "metadata": {},
   "outputs": [],
   "source": [
    "def plot_forecast(ts_train, ts_test, forecast_df, n_train_lags=None, \n",
    "                  figsize=(10,4), title='Comparing Forecast vs. True Data'):\n",
    "    ### PLot training data, and forecast (with upper/,lower ci)\n",
    "    fig, ax = plt.subplots(figsize=figsize)\n",
    "\n",
    "    # setting the number of train lags to plot if not specified\n",
    "    if n_train_lags==None:\n",
    "        n_train_lags = len(ts_train)\n",
    "            \n",
    "    # Plotting Training  and test data\n",
    "    ts_train.iloc[-n_train_lags:].plot(ax=ax, label=\"train\")\n",
    "    ts_test.plot(label=\"test\", ax=ax)\n",
    "\n",
    "    # Plot forecast\n",
    "    forecast_df['mean'].plot(ax=ax, color='green', label=\"forecast\")\n",
    "\n",
    "    # Add the shaded confidence interval\n",
    "    ax.fill_between(forecast_df.index, \n",
    "                    forecast_df['mean_ci_lower'],\n",
    "                   forecast_df['mean_ci_upper'],\n",
    "                   color='green', alpha=0.3,  lw=2)\n",
    "\n",
    "    # set the title and add legend\n",
    "    ax.set_title(title)\n",
    "    ax.legend();\n",
    "    \n",
    "    return fig, ax"
   ]
  },
  {
   "cell_type": "code",
   "execution_count": 3,
   "id": "c49724b3-d96f-4aaa-aa76-3fb8eec1d160",
   "metadata": {},
   "outputs": [],
   "source": [
    "# Custom function for Ad Fuller Test\n",
    "def get_adfuller_results(ts, alpha=.05, label='adfuller', **kwargs): #kwargs for adfuller()\n",
    "    # Saving each output\n",
    "    (test_stat, pval, nlags, nobs, crit_vals_d, \n",
    "    icbest ) = tsa.adfuller(ts, **kwargs)\n",
    "    # Converting output to a dictionary with the interpretation of p\n",
    "    adfuller_results = {'Test Statistic': test_stat,\n",
    "                        \"# of Lags Used\":nlags, \n",
    "                       '# of Observations':nobs,\n",
    "                        'p-value': round(pval,6),\n",
    "                        'alpha': alpha,\n",
    "                       'sig/stationary?': pval < alpha}\n",
    "    return pd.DataFrame(adfuller_results, index =[label])"
   ]
  },
  {
   "cell_type": "code",
   "execution_count": null,
   "id": "aa1a31e3-bacf-4f4f-8e1b-436fa40b225f",
   "metadata": {},
   "outputs": [],
   "source": [
    "from sklearn.metrics import mean_absolute_error, mean_squared_error, r2_score, mean_absolute_percentage_error\n",
    "\n",
    "def regression_metrics_ts(ts_true, ts_pred, label=\"\", verbose=True, output_dict=False,):\n",
    "    # Get metrics\n",
    "    mae = mean_absolute_error(ts_true, ts_pred)\n",
    "    mse = mean_squared_error(ts_true, ts_pred)\n",
    "    rmse = mean_squared_error(ts_true, ts_pred, squared=False)\n",
    "    r_squared = r2_score(ts_true, ts_pred)\n",
    "    mae_perc = mean_absolute_percentage_error(ts_true, ts_pred) * 100\n",
    "\n",
    "    if verbose == True:\n",
    "        # Print Result with label\n",
    "        header = \"---\" * 20\n",
    "        print(header, f\"Regression Metrics: {label}\", header, sep=\"\\n\")\n",
    "        print(f\"- MAE = {mae:,.3f}\")\n",
    "        print(f\"- MSE = {mse:,.3f}\")\n",
    "        print(f\"- RMSE = {rmse:,.3f}\")\n",
    "        print(f\"- R^2 = {r_squared:,.3f}\")\n",
    "        print(f\"- MAPE = {mae_perc:,.2f}%\")\n",
    "\n",
    "    if output_dict == True:\n",
    "        metrics = {\n",
    "            \"Label\": label,\n",
    "            \"MAE\": mae,\n",
    "            \"MSE\": mse,\n",
    "            \"RMSE\": rmse,\n",
    "            \"R^2\": r_squared,\n",
    "            \"MAPE(%)\": mae_perc,\n",
    "        }\n",
    "        return metrics"
   ]
  },
  {
   "cell_type": "code",
   "execution_count": null,
   "id": "3f39daf2-f0c3-4de4-a5c0-d9dc28b27e4b",
   "metadata": {},
   "outputs": [],
   "source": [
    "def plot_acf_pacf(ts, nlags=40, figsize=(10, 5), \n",
    "                  annotate_sig=False, alpha=.05,\n",
    "                 acf_kws={}, pacf_kws={},  \n",
    "                  annotate_seas=False, m = None,\n",
    "                 seas_color='black'):\n",
    "    \n",
    "    fig, axes = plt.subplots(nrows=2, figsize=figsize)\n",
    "\n",
    "    \n",
    "    # Sig lags line style\n",
    "    sig_vline_kwargs = dict( ls=':', lw=1, zorder=0, color='red')\n",
    "\n",
    "    # ACF\n",
    "    tsa.graphics.plot_acf(ts, ax=axes[0], lags=nlags, **acf_kws)\n",
    "    \n",
    "    ## Annotating sig acf lags\n",
    "    if annotate_sig == True:\n",
    "        sig_acf_lags = get_sig_lags(ts,nlags=nlags,alpha=alpha, type='ACF')\n",
    "        for lag in sig_acf_lags:\n",
    "            axes[0].axvline(lag,label='sig', **sig_vline_kwargs )\n",
    "\n",
    "    # PACF\n",
    "    tsa.graphics.plot_pacf(ts,ax=axes[1], lags=nlags, **pacf_kws)\n",
    "    \n",
    "    ## Annotating sig pacf lags\n",
    "    if annotate_sig == True:\n",
    "        ## ANNOTATING SIG LAGS\n",
    "        sig_pacf_lags = get_sig_lags(ts,nlags=nlags,alpha=alpha, type='PACF')\n",
    "        for lag in sig_pacf_lags:\n",
    "            axes[1].axvline(lag, label='sig', **sig_vline_kwargs)\n",
    "\n",
    "\n",
    "\n",
    "    \n",
    "    ### ANNOTATE SEASONS\n",
    "    if annotate_seas == True:\n",
    "        # Ensure m was defined\n",
    "        if m is None:\n",
    "            raise Exception(\"Must define value of m if annotate_seas=True.\")\n",
    "\n",
    "        ## Calculate number of complete seasons to annotate\n",
    "        n_seasons = nlags//m \n",
    "\n",
    "        # Seasonal Lines style\n",
    "        seas_vline_kwargs = dict( ls='--',lw=1, alpha=.7, color=seas_color, zorder=-1)\n",
    "        \n",
    "        ## for each season, add a line\n",
    "        for i in range(1, n_seasons+1):\n",
    "            axes[0].axvline(m*i, **seas_vline_kwargs, label=\"season\")\n",
    "            axes[1].axvline(m*i, **seas_vline_kwargs, label=\"season\")\n",
    "\n",
    "    fig.tight_layout()\n",
    "    \n",
    "    return fig"
   ]
  },
  {
   "cell_type": "code",
   "execution_count": null,
   "id": "e82f705b-f6d2-41c8-b144-5ac5e2255992",
   "metadata": {},
   "outputs": [],
   "source": [
    "url= \"https://docs.google.com/spreadsheets/d/e/2PACX-1vQN3Ksa9szQuO4G1-msXWAp17KtVHQCBnuEieu_auu1wSiBf3-krHusIx5VBMkihxj-KZLBosDIGEyR/pub?output=csv\"\n",
    "df= pd.read_csv(url)"
   ]
  },
  {
   "cell_type": "code",
   "execution_count": null,
   "id": "2e473f57-cd72-4188-bde7-4c14db4022b8",
   "metadata": {},
   "outputs": [],
   "source": [
    "dataframe= pd.DataFrame(df)\n",
    "dataframe"
   ]
  },
  {
   "cell_type": "code",
   "execution_count": null,
   "id": "eaeaa1bb-d507-4aed-89f8-791192530095",
   "metadata": {},
   "outputs": [],
   "source": [
    "dataframe['RegionID']= dataframe['RegionID'].drop_duplicates()"
   ]
  },
  {
   "cell_type": "code",
   "execution_count": null,
   "id": "d539f06e-bd4f-4e1b-8cf3-9ac5e7c45ce2",
   "metadata": {},
   "outputs": [],
   "source": [
    "#melted = pd.melt(df, id_vars=['RegionName', 'Metro', 'CountyName'], var_name='Date', value_name='Value')\n",
    "#melted"
   ]
  },
  {
   "cell_type": "code",
   "execution_count": null,
   "id": "1b6c7b0c-ddc3-4f3d-9e76-c4618bbee6e6",
   "metadata": {},
   "outputs": [],
   "source": [
    "cities = ['New York', 'Houston', 'Chicago', 'Los Angeles']\n",
    "filtered_df = df[df['RegionName'].isin(cities)]"
   ]
  },
  {
   "cell_type": "code",
   "execution_count": null,
   "id": "dae566c9-e916-441e-be7f-de3fffdf078d",
   "metadata": {},
   "outputs": [],
   "source": [
    "melted = pd.melt(filtered_df.drop(columns=['Metro','CountyName']),\n",
    "                 id_vars=['RegionName'],\n",
    "                value_name='Confirmed',var_name=\"Date\")\n",
    "melted"
   ]
  },
  {
   "cell_type": "code",
   "execution_count": null,
   "id": "114f409f-5f76-4a11-8b41-dc91ebd6a592",
   "metadata": {},
   "outputs": [],
   "source": [
    "melted = melted[~melted['Date'].isin(['RegionID', 'SizeRank','StateName','State','RegionType'])]\n",
    "melted"
   ]
  },
  {
   "cell_type": "code",
   "execution_count": null,
   "id": "96c3cab9-5dec-407f-8336-2d4c8f36841e",
   "metadata": {},
   "outputs": [],
   "source": [
    "melted['Date']= pd.to_datetime(melted['Date'])\n",
    "melted.info()"
   ]
  },
  {
   "cell_type": "code",
   "execution_count": null,
   "id": "f3eb10a7-1771-48cd-a8de-fc18858cd3ca",
   "metadata": {},
   "outputs": [],
   "source": [
    "melted= melted.set_index('Date')\n",
    "melted"
   ]
  },
  {
   "cell_type": "code",
   "execution_count": null,
   "id": "e183a7da-eaf7-4e63-a07a-4812f8066474",
   "metadata": {},
   "outputs": [],
   "source": [
    "df_ts = melted.groupby(\"RegionName\").resample(\"M\").asfreq(\"M\")\n",
    "df_ts"
   ]
  },
  {
   "cell_type": "code",
   "execution_count": null,
   "id": "3a0bd2e9-d0e3-4db7-9403-36813dae1680",
   "metadata": {},
   "outputs": [],
   "source": []
  },
  {
   "cell_type": "code",
   "execution_count": null,
   "id": "2dbb7547-2b90-4977-9538-82f26f7d19f9",
   "metadata": {},
   "outputs": [],
   "source": [
    "import matplotlib.ticker as mticks\n",
    "\n",
    "def millions(x,pos):\n",
    "    \"\"\"function for use wth matplotlib FuncFormatter -  formats money in millions\"\"\"\n",
    "    new_x = x/1_000_000\n",
    "    return f\"{new_x:,.0f}M\"\n",
    "def thousands(x,pos):\n",
    "    \"\"\"function for use wth matplotlib FuncFormatter -  formats money in millions\"\"\"\n",
    "    new_x = x/1_000\n",
    "    return f\"{new_x:,.0f}K\"\n",
    "# Create the formatters\n",
    "fmt_mill = mticks.FuncFormatter(millions)\n",
    "fmt_thous = mticks.FuncFormatter(thousands)"
   ]
  },
  {
   "cell_type": "code",
   "execution_count": null,
   "id": "2cf90812-5824-4cfc-8c2f-db04dc7a131e",
   "metadata": {},
   "outputs": [],
   "source": [
    "unstacked = df_ts.unstack(level=0)\n",
    "unstacked"
   ]
  },
  {
   "cell_type": "code",
   "execution_count": null,
   "id": "4a288057-6073-4c13-94c3-589db77cd964",
   "metadata": {},
   "outputs": [],
   "source": [
    "ax= unstacked.plot"
   ]
  },
  {
   "cell_type": "code",
   "execution_count": null,
   "id": "ab53d41e-ae52-483d-afa9-c40c1225bd6e",
   "metadata": {},
   "outputs": [],
   "source": [
    "# GRIDSEARCH\n",
    "\n",
    "ny= unstacked['NY']"
   ]
  },
  {
   "cell_type": "code",
   "execution_count": null,
   "id": "f0c656a0-b9f8-43c1-a8d7-b59780145b70",
   "metadata": {},
   "outputs": [],
   "source": [
    "ny.isna().sum()"
   ]
  },
  {
   "cell_type": "code",
   "execution_count": null,
   "id": "dd507570-13d4-499f-a2e4-1b54fa2bb373",
   "metadata": {},
   "outputs": [],
   "source": [
    "ny= ny.interpolate()"
   ]
  },
  {
   "cell_type": "code",
   "execution_count": null,
   "id": "6adedbea-edaf-49bf-a42f-f70f2f0fbeff",
   "metadata": {},
   "outputs": [],
   "source": [
    "ny= ny.loc['2018':]\n",
    "ny.plot()"
   ]
  },
  {
   "cell_type": "code",
   "execution_count": null,
   "id": "e4bd8311-8468-4bef-8e5a-3c307a70ea12",
   "metadata": {},
   "outputs": [],
   "source": [
    "decomp = tsa.seasonal_decompose(ny)\n",
    "fig = decomp.plot()\n",
    "fig.set_size_inches(12,5)\n",
    "fig.tight_layout()"
   ]
  },
  {
   "cell_type": "code",
   "execution_count": null,
   "id": "095b8e5c-18c3-4692-a755-0d76c887c586",
   "metadata": {},
   "outputs": [],
   "source": [
    "plot_acf_pacf(ts_diff, annotate_seas=True, m = 6);"
   ]
  },
  {
   "cell_type": "code",
   "execution_count": null,
   "id": "bfa9ef27-8130-4b24-a9f3-a1fb4455d678",
   "metadata": {},
   "outputs": [],
   "source": [
    "train, test = train_test_split(ny, test_size=.25)\n",
    "ax = train.plot(label='Train')\n",
    "test.plot(ax=ax, label='Test')\n",
    "ax.legend();"
   ]
  },
  {
   "cell_type": "code",
   "execution_count": null,
   "id": "a725119f-969b-42ad-b945-bbbbb2bc57d3",
   "metadata": {},
   "outputs": [],
   "source": [
    "# Fitting a SARIMA model\n",
    "\n",
    "# Orders for non seasonal components\n",
    "p = 1  # nonseasonal AR\n",
    "d = 1  # nonseasonal differencing\n",
    "q = 1  # nonseasonal MA\n",
    "\n",
    "# Orders for seasonal components\n",
    "P = 1  # Seasonal AR\n",
    "D = 0  # Seasonal differencing\n",
    "Q = 1  # Seasonal MA\n",
    "m = 6 # Seasonal period\n",
    "\n",
    "sarima = tsa.ARIMA(train, order = (p,d,q), seasonal_order=(P,D,Q,m)).fit()"
   ]
  },
  {
   "cell_type": "code",
   "execution_count": null,
   "id": "170d26df-c048-41a7-ba9a-09bafb06a44a",
   "metadata": {},
   "outputs": [],
   "source": [
    "# What is the predicted home value in New York City 6 months into the future (beyond the dataset)?\n",
    "# What is the percent change in home values in New York City by the end of the 6-month forecast (beyond the dataset)?"
   ]
  }
 ],
 "metadata": {
  "kernelspec": {
   "display_name": "Python (dojo-env)",
   "language": "python",
   "name": "dojo-env"
  },
  "language_info": {
   "codemirror_mode": {
    "name": "ipython",
    "version": 3
   },
   "file_extension": ".py",
   "mimetype": "text/x-python",
   "name": "python",
   "nbconvert_exporter": "python",
   "pygments_lexer": "ipython3",
   "version": "3.10.10"
  }
 },
 "nbformat": 4,
 "nbformat_minor": 5
}
